{
  "nbformat": 4,
  "nbformat_minor": 0,
  "metadata": {
    "colab": {
      "name": "Building_a_CNN_in_the_Tensor_Flow_2_0_with_the_cifar10.ipynb",
      "provenance": [],
      "include_colab_link": true
    },
    "kernelspec": {
      "name": "python3",
      "display_name": "Python 3"
    },
    "language_info": {
      "name": "python"
    },
    "accelerator": "GPU"
  },
  "cells": [
    {
      "cell_type": "markdown",
      "metadata": {
        "id": "view-in-github",
        "colab_type": "text"
      },
      "source": [
        "<a href=\"https://colab.research.google.com/github/thudimillasaiprasad/Building-CNN-in-the-Tensorflow-2.0/blob/main/Building_a_CNN_in_the_Tensor_Flow_2_0_with_the_cifar10.ipynb\" target=\"_parent\"><img src=\"https://colab.research.google.com/assets/colab-badge.svg\" alt=\"Open In Colab\"/></a>"
      ]
    },
    {
      "cell_type": "markdown",
      "metadata": {
        "id": "Iul11kKMmoio"
      },
      "source": [
        "Let install the dependensies and GPU settup"
      ]
    },
    {
      "cell_type": "markdown",
      "metadata": {
        "id": "8tCDyXHxm4B_"
      },
      "source": [
        "Lets import dependensies for the project requirement"
      ]
    },
    {
      "cell_type": "code",
      "metadata": {
        "colab": {
          "base_uri": "https://localhost:8080/",
          "height": 35
        },
        "id": "KT4vjOP9mk3i",
        "outputId": "d1660591-ce87-4e52-b39c-0b4ea920d98d"
      },
      "source": [
        "import tensorflow as tf\n",
        "import matplotlib.pyplot as plt\n",
        "\n",
        "from tensorflow.keras.datasets import cifar10\n",
        "\n",
        "%matplotlib inline\n",
        "tf.__version__"
      ],
      "execution_count": 3,
      "outputs": [
        {
          "output_type": "execute_result",
          "data": {
            "application/vnd.google.colaboratory.intrinsic+json": {
              "type": "string"
            },
            "text/plain": [
              "'2.4.1'"
            ]
          },
          "metadata": {
            "tags": []
          },
          "execution_count": 3
        }
      ]
    },
    {
      "cell_type": "markdown",
      "metadata": {
        "id": "W6FvEYRfnNXo"
      },
      "source": [
        "let load data for Preprossessing\n",
        "\n"
      ]
    },
    {
      "cell_type": "markdown",
      "metadata": {
        "id": "AOAGjiPogF0w"
      },
      "source": [
        "### Loading the Cifar10 dataset\n",
        "\n",
        "> Indented block\n",
        "\n"
      ]
    },
    {
      "cell_type": "code",
      "metadata": {
        "id": "v1N6LbS-e9a1"
      },
      "source": [
        "#Setting class names for the dataset\n",
        "class_names = ['airplane', 'automobile', 'bird', 'cat', 'deer', 'dog', 'frog', 'horse', 'ship', 'truck']"
      ],
      "execution_count": 4,
      "outputs": []
    },
    {
      "cell_type": "code",
      "metadata": {
        "id": "f13-8-m_fqKP",
        "colab": {
          "base_uri": "https://localhost:8080/"
        },
        "outputId": "1d73c7a6-0113-4005-c042-f877b2d8b3af"
      },
      "source": [
        "#Loading the dataset\n",
        "(X_train, y_train), (X_test, y_test) = cifar10.load_data()"
      ],
      "execution_count": 5,
      "outputs": [
        {
          "output_type": "stream",
          "text": [
            "Downloading data from https://www.cs.toronto.edu/~kriz/cifar-10-python.tar.gz\n",
            "170500096/170498071 [==============================] - 2s 0us/step\n"
          ],
          "name": "stdout"
        }
      ]
    },
    {
      "cell_type": "markdown",
      "metadata": {
        "id": "y8KOqSkSoZI_"
      },
      "source": [
        ""
      ]
    },
    {
      "cell_type": "markdown",
      "metadata": {
        "id": "XqDIpsJWgUkz"
      },
      "source": [
        "### Image normalization"
      ]
    },
    {
      "cell_type": "code",
      "metadata": {
        "id": "-QFncPlpgNmU"
      },
      "source": [
        "X_train = X_train / 255.0"
      ],
      "execution_count": 6,
      "outputs": []
    },
    {
      "cell_type": "code",
      "metadata": {
        "colab": {
          "base_uri": "https://localhost:8080/"
        },
        "id": "m9i3okiGocPg",
        "outputId": "15748ece-d27b-4fba-a109-9d243069fec3"
      },
      "source": [
        "X_train.shape"
      ],
      "execution_count": 7,
      "outputs": [
        {
          "output_type": "execute_result",
          "data": {
            "text/plain": [
              "(50000, 32, 32, 3)"
            ]
          },
          "metadata": {
            "tags": []
          },
          "execution_count": 7
        }
      ]
    },
    {
      "cell_type": "markdown",
      "metadata": {
        "id": "FRCagrODouPn"
      },
      "source": [
        "Image Normalisation"
      ]
    },
    {
      "cell_type": "code",
      "metadata": {
        "id": "xi9JnMmuoz6n"
      },
      "source": [
        "X_test=X_test/255.0"
      ],
      "execution_count": 8,
      "outputs": []
    },
    {
      "cell_type": "code",
      "metadata": {
        "colab": {
          "base_uri": "https://localhost:8080/"
        },
        "id": "Uqcn66YRpEQh",
        "outputId": "bd4b9892-2482-4777-bdd8-4c623a77c9bf"
      },
      "source": [
        "X_test[1]"
      ],
      "execution_count": 9,
      "outputs": [
        {
          "output_type": "execute_result",
          "data": {
            "text/plain": [
              "array([[[0.92156863, 0.92156863, 0.92156863],\n",
              "        [0.90588235, 0.90588235, 0.90588235],\n",
              "        [0.90980392, 0.90980392, 0.90980392],\n",
              "        ...,\n",
              "        [0.91372549, 0.91372549, 0.91372549],\n",
              "        [0.91372549, 0.91372549, 0.91372549],\n",
              "        [0.90980392, 0.90980392, 0.90980392]],\n",
              "\n",
              "       [[0.93333333, 0.93333333, 0.93333333],\n",
              "        [0.92156863, 0.92156863, 0.92156863],\n",
              "        [0.92156863, 0.92156863, 0.92156863],\n",
              "        ...,\n",
              "        [0.9254902 , 0.9254902 , 0.9254902 ],\n",
              "        [0.9254902 , 0.9254902 , 0.9254902 ],\n",
              "        [0.92156863, 0.92156863, 0.92156863]],\n",
              "\n",
              "       [[0.92941176, 0.92941176, 0.92941176],\n",
              "        [0.91764706, 0.91764706, 0.91764706],\n",
              "        [0.91764706, 0.91764706, 0.91764706],\n",
              "        ...,\n",
              "        [0.92156863, 0.92156863, 0.92156863],\n",
              "        [0.92156863, 0.92156863, 0.92156863],\n",
              "        [0.91764706, 0.91764706, 0.91764706]],\n",
              "\n",
              "       ...,\n",
              "\n",
              "       [[0.34117647, 0.38823529, 0.34901961],\n",
              "        [0.16862745, 0.2       , 0.14509804],\n",
              "        [0.0745098 , 0.09019608, 0.04313725],\n",
              "        ...,\n",
              "        [0.6627451 , 0.72156863, 0.70196078],\n",
              "        [0.71372549, 0.77254902, 0.75686275],\n",
              "        [0.7372549 , 0.79215686, 0.78823529]],\n",
              "\n",
              "       [[0.32156863, 0.37647059, 0.32156863],\n",
              "        [0.18039216, 0.22352941, 0.14117647],\n",
              "        [0.14117647, 0.17254902, 0.08627451],\n",
              "        ...,\n",
              "        [0.68235294, 0.74117647, 0.71764706],\n",
              "        [0.7254902 , 0.78431373, 0.76862745],\n",
              "        [0.73333333, 0.79215686, 0.78431373]],\n",
              "\n",
              "       [[0.33333333, 0.39607843, 0.3254902 ],\n",
              "        [0.24313725, 0.29411765, 0.18823529],\n",
              "        [0.22745098, 0.2627451 , 0.14901961],\n",
              "        ...,\n",
              "        [0.65882353, 0.71764706, 0.69803922],\n",
              "        [0.70588235, 0.76470588, 0.74901961],\n",
              "        [0.72941176, 0.78431373, 0.78039216]]])"
            ]
          },
          "metadata": {
            "tags": []
          },
          "execution_count": 9
        }
      ]
    },
    {
      "cell_type": "code",
      "metadata": {
        "colab": {
          "base_uri": "https://localhost:8080/",
          "height": 283
        },
        "id": "3q-OFcWnpTqh",
        "outputId": "09344264-93bb-4990-fe58-ed1db7d53105"
      },
      "source": [
        "plt.imshow(X_test[1])"
      ],
      "execution_count": 10,
      "outputs": [
        {
          "output_type": "execute_result",
          "data": {
            "text/plain": [
              "<matplotlib.image.AxesImage at 0x7fbb1a200f50>"
            ]
          },
          "metadata": {
            "tags": []
          },
          "execution_count": 10
        },
        {
          "output_type": "display_data",
          "data": {
            "image/png": "[encoded data removed]",
            "text/plain": [
              "<Figure size 432x288 with 1 Axes>"
            ]
          },
          "metadata": {
            "tags": [],
            "needs_background": "light"
          }
        }
      ]
    },
    {
      "cell_type": "code",
      "metadata": {
        "colab": {
          "base_uri": "https://localhost:8080/",
          "height": 283
        },
        "id": "A6ZFERZlpj-_",
        "outputId": "fab31708-f44e-4296-a34f-26e7a43c47e6"
      },
      "source": [
        "plt.imshow(X_test[5])"
      ],
      "execution_count": 11,
      "outputs": [
        {
          "output_type": "execute_result",
          "data": {
            "text/plain": [
              "<matplotlib.image.AxesImage at 0x7fbb19d2b390>"
            ]
          },
          "metadata": {
            "tags": []
          },
          "execution_count": 11
        },
        {
          "output_type": "display_data",
          "data": {
            "image/png": "[encoded data removed]",
            "text/plain": [
              "<Figure size 432x288 with 1 Axes>"
            ]
          },
          "metadata": {
            "tags": [],
            "needs_background": "light"
          }
        }
      ]
    },
    {
      "cell_type": "code",
      "metadata": {
        "colab": {
          "base_uri": "https://localhost:8080/",
          "height": 283
        },
        "id": "FSvJIKgMpqs4",
        "outputId": "ac8c6078-d70a-42e9-d1e6-7972da797bf7"
      },
      "source": [
        "plt.imshow(X_test[8])"
      ],
      "execution_count": 12,
      "outputs": [
        {
          "output_type": "execute_result",
          "data": {
            "text/plain": [
              "<matplotlib.image.AxesImage at 0x7fbb19c9af90>"
            ]
          },
          "metadata": {
            "tags": []
          },
          "execution_count": 12
        },
        {
          "output_type": "display_data",
          "data": {
            "image/png": "[encoded data removed]",
            "text/plain": [
              "<Figure size 432x288 with 1 Axes>"
            ]
          },
          "metadata": {
            "tags": [],
            "needs_background": "light"
          }
        }
      ]
    },
    {
      "cell_type": "markdown",
      "metadata": {
        "id": "zUEEnNe5p25n"
      },
      "source": [
        "Building a CNN"
      ]
    },
    {
      "cell_type": "markdown",
      "metadata": {
        "id": "uIaRQwC9qEsC"
      },
      "source": [
        "Define modelling "
      ]
    },
    {
      "cell_type": "code",
      "metadata": {
        "id": "Fk0-7OBNqHWx"
      },
      "source": [
        "model = tf.keras.models.Sequential()"
      ],
      "execution_count": 13,
      "outputs": []
    },
    {
      "cell_type": "markdown",
      "metadata": {
        "id": "-RrPTMSVqPo5"
      },
      "source": [
        "Adding First CNN Layer\n",
        "\n"
      ]
    },
    {
      "cell_type": "markdown",
      "metadata": {
        "id": "j92d4FE0hTZV"
      },
      "source": [
        "### Adding the first CNN Layer\n",
        "\n",
        "CNN layer hyper-parameters:\n",
        "- filters: 32\n",
        "- kernel_size:3\n",
        "- padding: same\n",
        "- activation: relu\n",
        "- input_shape: (32, 32, 3)\n"
      ]
    },
    {
      "cell_type": "code",
      "metadata": {
        "id": "vYlBQkD4qOE3"
      },
      "source": [
        "model.add(tf.keras.layers.Conv2D(filters=32,kernel_size=3,padding=\"same\",activation=\"relu\",input_shape=[32,32,3]))"
      ],
      "execution_count": 15,
      "outputs": []
    },
    {
      "cell_type": "markdown",
      "metadata": {
        "id": "l2HPtRiZt07d"
      },
      "source": [
        "\n",
        "\n"
      ]
    },
    {
      "cell_type": "markdown",
      "metadata": {
        "id": "gfRAaRmWiSlZ"
      },
      "source": [
        "### Adding the second CNN Layer and max pool layer\n",
        "\n",
        "CNN layer hyper-parameters:\n",
        "- filters: 32\n",
        "- kernel_size:3\n",
        "- padding: same\n",
        "- activation: relu\n",
        "\n",
        "MaxPool layer hyper-parameters:\n",
        "- pool_size: 2\n",
        "- strides: 2\n",
        "- padding: valid"
      ]
    },
    {
      "cell_type": "code",
      "metadata": {
        "id": "J9qXz0DBtIDN"
      },
      "source": [
        "model.add(tf.keras.layers.Conv2D(filters=32,kernel_size=3,padding=\"same\",activation=\"relu\"))"
      ],
      "execution_count": 16,
      "outputs": []
    },
    {
      "cell_type": "code",
      "metadata": {
        "id": "HjEdqoZBttZF"
      },
      "source": [
        "model.add(tf.keras.layers.MaxPool2D(pool_size=2,strides=2,padding=\"valid\"))"
      ],
      "execution_count": 17,
      "outputs": []
    },
    {
      "cell_type": "markdown",
      "metadata": {
        "id": "MOwnMuhn0zHS"
      },
      "source": [
        "Lets add 3 rd CNN layer \n",
        "with the filters=64,kernel_size=3,padding=same,activation=relu\n",
        "\n"
      ]
    },
    {
      "cell_type": "code",
      "metadata": {
        "id": "gRrDChc60ytV"
      },
      "source": [
        "model.add(tf.keras.layers.Conv2D(filters=64,kernel_size=3,padding=\"same\",activation=\"relu\"))"
      ],
      "execution_count": 18,
      "outputs": []
    },
    {
      "cell_type": "markdown",
      "metadata": {
        "id": "-XBsE-qo28kL"
      },
      "source": [
        "Lets add 4th CNN layer and maxpool layer"
      ]
    },
    {
      "cell_type": "code",
      "metadata": {
        "id": "73AkOuCy3CYC"
      },
      "source": [
        "model.add(tf.keras.layers.Conv2D(filters=64,kernel_size=3,padding=\"same\",activation=\"relu\"))"
      ],
      "execution_count": 19,
      "outputs": []
    },
    {
      "cell_type": "code",
      "metadata": {
        "id": "AKPNXbYs3qSR"
      },
      "source": [
        "model.add(tf.keras.layers.MaxPool2D(pool_size=2,strides=2,padding=\"valid\"))"
      ],
      "execution_count": 20,
      "outputs": []
    },
    {
      "cell_type": "markdown",
      "metadata": {
        "id": "eXExPqSB3-tr"
      },
      "source": [
        "Adding the flateren layer"
      ]
    },
    {
      "cell_type": "code",
      "metadata": {
        "id": "kJ3ph-tT4CkD"
      },
      "source": [
        "model.add(tf.keras.layers.Flatten())"
      ],
      "execution_count": 21,
      "outputs": []
    },
    {
      "cell_type": "markdown",
      "metadata": {
        "id": "GpeRUvVWjR1W"
      },
      "source": [
        "### Adding the first Dense layer\n",
        "\n",
        "Dense layer hyper-parameters:\n",
        "- units/neurons: 128\n",
        "- activation: relu"
      ]
    },
    {
      "cell_type": "code",
      "metadata": {
        "id": "pStb4RRd4YhK"
      },
      "source": [
        "model.add(tf.keras.layers.Dense(units=128,activation=\"relu\"))"
      ],
      "execution_count": 22,
      "outputs": []
    },
    {
      "cell_type": "markdown",
      "metadata": {
        "id": "4SUyEgBW5Wsq"
      },
      "source": [
        "Adding 2 dense layer "
      ]
    },
    {
      "cell_type": "markdown",
      "metadata": {
        "id": "UaakKTqRjrkF"
      },
      "source": [
        "### Adding the second Dense layer (output layer)\n",
        "\n",
        "Dense layer hyper-parameters:\n",
        "\n",
        " - units/neurons: 10 (number of classes)\n",
        " - activation: softmax\n"
      ]
    },
    {
      "cell_type": "code",
      "metadata": {
        "id": "Z9QgsEBE5V90"
      },
      "source": [
        "model.add(tf.keras.layers.Dense(units=10,activation=\"softmax\"))"
      ],
      "execution_count": 23,
      "outputs": []
    },
    {
      "cell_type": "code",
      "metadata": {
        "colab": {
          "base_uri": "https://localhost:8080/"
        },
        "id": "NvPd5dIa5159",
        "outputId": "c1ed134e-725f-4cca-aca0-c7a1344dffbf"
      },
      "source": [
        "model.summary()"
      ],
      "execution_count": 24,
      "outputs": [
        {
          "output_type": "stream",
          "text": [
            "Model: \"sequential\"\n",
            "_________________________________________________________________\n",
            "Layer (type)                 Output Shape              Param #   \n",
            "=================================================================\n",
            "conv2d (Conv2D)              (None, 32, 32, 32)        896       \n",
            "_________________________________________________________________\n",
            "conv2d_1 (Conv2D)            (None, 32, 32, 32)        9248      \n",
            "_________________________________________________________________\n",
            "conv2d_2 (Conv2D)            (None, 32, 32, 32)        9248      \n",
            "_________________________________________________________________\n",
            "max_pooling2d (MaxPooling2D) (None, 16, 16, 32)        0         \n",
            "_________________________________________________________________\n",
            "conv2d_3 (Conv2D)            (None, 16, 16, 64)        18496     \n",
            "_________________________________________________________________\n",
            "conv2d_4 (Conv2D)            (None, 16, 16, 64)        36928     \n",
            "_________________________________________________________________\n",
            "max_pooling2d_1 (MaxPooling2 (None, 8, 8, 64)          0         \n",
            "_________________________________________________________________\n",
            "flatten (Flatten)            (None, 4096)              0         \n",
            "_________________________________________________________________\n",
            "dense (Dense)                (None, 128)               524416    \n",
            "_________________________________________________________________\n",
            "dense_1 (Dense)              (None, 10)                1290      \n",
            "=================================================================\n",
            "Total params: 600,522\n",
            "Trainable params: 600,522\n",
            "Non-trainable params: 0\n",
            "_________________________________________________________________\n"
          ],
          "name": "stdout"
        }
      ]
    },
    {
      "cell_type": "markdown",
      "metadata": {
        "id": "DYgvbNihtprw"
      },
      "source": [
        "### Compiling the model\n",
        "\n",
        "#### sparse_categorical_accuracy\n",
        "sparse_categorical_accuracy checks to see if the maximal true value is equal to the index of the maximal predicted value.\n",
        "\n",
        "https://stackoverflow.com/questions/44477489/keras-difference-between-categorical-accuracy-and-sparse-categorical-accuracy "
      ]
    },
    {
      "cell_type": "code",
      "metadata": {
        "id": "KPahYvvJ6moZ"
      },
      "source": [
        "model.compile(loss=\"sparse_categorical_crossentropy\",\n",
        "              optimizer=\"Adam\", metrics=[\"sparse_categorical_accuracy\"])"
      ],
      "execution_count": 30,
      "outputs": []
    },
    {
      "cell_type": "markdown",
      "metadata": {
        "id": "geyKRT-W7SLA"
      },
      "source": [
        "Training the Model"
      ]
    },
    {
      "cell_type": "code",
      "metadata": {
        "colab": {
          "base_uri": "https://localhost:8080/"
        },
        "id": "k_fGZY7v7W5L",
        "outputId": "479caa28-6ae5-43a8-f4ca-36e7e0272263"
      },
      "source": [
        "model.fit(X_train,y_train,epochs=10)"
      ],
      "execution_count": 31,
      "outputs": [
        {
          "output_type": "stream",
          "text": [
            "Epoch 1/10\n",
            "1563/1563 [==============================] - 8s 5ms/step - loss: 0.1065 - sparse_categorical_accuracy: 0.9642\n",
            "Epoch 2/10\n",
            "1563/1563 [==============================] - 8s 5ms/step - loss: 0.0857 - sparse_categorical_accuracy: 0.9711\n",
            "Epoch 3/10\n",
            "1563/1563 [==============================] - 8s 5ms/step - loss: 0.0796 - sparse_categorical_accuracy: 0.9732\n",
            "Epoch 4/10\n",
            "1563/1563 [==============================] - 8s 5ms/step - loss: 0.0793 - sparse_categorical_accuracy: 0.9729\n",
            "Epoch 5/10\n",
            "1563/1563 [==============================] - 8s 5ms/step - loss: 0.0808 - sparse_categorical_accuracy: 0.9735\n",
            "Epoch 6/10\n",
            "1563/1563 [==============================] - 8s 5ms/step - loss: 0.0741 - sparse_categorical_accuracy: 0.9751\n",
            "Epoch 7/10\n",
            "1563/1563 [==============================] - 8s 5ms/step - loss: 0.0696 - sparse_categorical_accuracy: 0.9765\n",
            "Epoch 8/10\n",
            "1563/1563 [==============================] - 8s 5ms/step - loss: 0.0692 - sparse_categorical_accuracy: 0.9771\n",
            "Epoch 9/10\n",
            "1563/1563 [==============================] - 8s 5ms/step - loss: 0.0769 - sparse_categorical_accuracy: 0.9759\n",
            "Epoch 10/10\n",
            "1563/1563 [==============================] - 8s 5ms/step - loss: 0.0694 - sparse_categorical_accuracy: 0.9781\n"
          ],
          "name": "stdout"
        },
        {
          "output_type": "execute_result",
          "data": {
            "text/plain": [
              "<tensorflow.python.keras.callbacks.History at 0x7fbac7ea78d0>"
            ]
          },
          "metadata": {
            "tags": []
          },
          "execution_count": 31
        }
      ]
    },
    {
      "cell_type": "markdown",
      "metadata": {
        "id": "S2Zj2IIqAmJX"
      },
      "source": [
        "Model Evaluation and Prediction"
      ]
    },
    {
      "cell_type": "code",
      "metadata": {
        "colab": {
          "base_uri": "https://localhost:8080/"
        },
        "id": "qtb2Les0AtkB",
        "outputId": "c4947c43-2e5c-42ea-d9be-4d8e5fde6ee7"
      },
      "source": [
        "test_loss,test_accuracy  = model.evaluate(X_test,y_test)"
      ],
      "execution_count": 32,
      "outputs": [
        {
          "output_type": "stream",
          "text": [
            "313/313 [==============================] - 1s 3ms/step - loss: 2.0458 - sparse_categorical_accuracy: 0.7309\n"
          ],
          "name": "stdout"
        }
      ]
    },
    {
      "cell_type": "code",
      "metadata": {
        "colab": {
          "base_uri": "https://localhost:8080/"
        },
        "id": "r25nfWnYBF9H",
        "outputId": "d6f9e5da-e3e8-4d1d-9902-ab9264dc37c2"
      },
      "source": [
        "print(\"Test accuracy:{}\".format(test_accuracy))"
      ],
      "execution_count": 33,
      "outputs": [
        {
          "output_type": "stream",
          "text": [
            "Test accuracy:0.73089998960495\n"
          ],
          "name": "stdout"
        }
      ]
    }
  ]
}